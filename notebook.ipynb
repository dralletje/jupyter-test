{
  "metadata": {
    "language_info": {
      "name": "python",
      "version": "3.7.12",
      "mimetype": "text/x-python",
      "codemirror_mode": {
        "name": "ipython",
        "version": 3
      },
      "pygments_lexer": "ipython3",
      "nbconvert_exporter": "python",
      "file_extension": ".py"
    },
    "kernelspec": {
      "name": "python3",
      "display_name": "Python 3 (ipykernel)",
      "language": "python"
    }
  },
  "nbformat_minor": 5,
  "nbformat": 4,
  "cells": [
    {
      "cell_type": "code",
      "source": "from IPython.core.display import display, HTML",
      "metadata": {
        "trusted": true
      },
      "execution_count": 4,
      "outputs": [],
      "id": "5d15c7f9-ecb7-466f-9c6d-0634d91ab58e"
    },
    {
      "cell_type": "code",
      "source": "1 + 1",
      "metadata": {
        "trusted": true
      },
      "execution_count": 1,
      "outputs": [
        {
          "execution_count": 1,
          "output_type": "execute_result",
          "data": {
            "text/plain": "2"
          },
          "metadata": {}
        }
      ],
      "id": "98f17349-7950-4221-b671-64d827dd6e57"
    },
    {
      "cell_type": "code",
      "source": "\"wow\"",
      "metadata": {
        "trusted": true
      },
      "execution_count": 3,
      "outputs": [
        {
          "execution_count": 3,
          "output_type": "execute_result",
          "data": {
            "text/plain": "'wow'"
          },
          "metadata": {}
        }
      ],
      "id": "245e1c13-6f20-4e88-a913-e30c80b4b8bb"
    },
    {
      "cell_type": "code",
      "source": "2 + 2",
      "metadata": {
        "trusted": true
      },
      "execution_count": 2,
      "outputs": [
        {
          "execution_count": 2,
          "output_type": "execute_result",
          "data": {
            "text/plain": "4"
          },
          "metadata": {}
        }
      ],
      "id": "d202be38-64f3-4e26-ab43-77c4715fd912"
    },
    {
      "cell_type": "code",
      "source": "display(HTML('<h1>Hello, world!</h1>'))",
      "metadata": {
        "trusted": true
      },
      "execution_count": 5,
      "outputs": [
        {
          "output_type": "display_data",
          "data": {
            "text/plain": "<IPython.core.display.HTML object>",
            "text/html": "<h1>Hello, world!</h1>"
          },
          "metadata": {}
        }
      ],
      "id": "de84d166-396b-4a03-88d7-4abcef97dee5"
    },
    {
      "cell_type": "code",
      "source": "1 + 1",
      "metadata": {
        "trusted": true
      },
      "execution_count": 6,
      "outputs": [
        {
          "execution_count": 6,
          "output_type": "execute_result",
          "data": {
            "text/plain": "2"
          },
          "metadata": {}
        }
      ],
      "id": "0eb8acf8-6dd6-45e8-b3d3-b9f9601a7e18"
    },
    {
      "cell_type": "code",
      "source": "display(HTML('<style>body { background-color: black !important } </style>'))",
      "metadata": {
        "trusted": true
      },
      "execution_count": 7,
      "outputs": [
        {
          "output_type": "display_data",
          "data": {
            "text/plain": "<IPython.core.display.HTML object>",
            "text/html": "<style>body { background-color: black !important } </style>"
          },
          "metadata": {}
        }
      ],
      "id": "96e4dda0-7e52-4cf0-9426-2d5df6dc394b"
    },
    {
      "cell_type": "code",
      "source": "",
      "metadata": {},
      "execution_count": null,
      "outputs": [],
      "id": "841ad64c-dbd3-4452-afbc-8b819b5e9570"
    }
  ]
}
